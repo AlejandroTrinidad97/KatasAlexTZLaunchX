{
 "cells": [
  {
   "cell_type": "markdown",
   "metadata": {},
   "source": [
    "# Kata 3\n",
    "## Alejandro Trinidad Zavala"
   ]
  },
  {
   "cell_type": "markdown",
   "metadata": {},
   "source": [
    "## Ejercicio 1"
   ]
  },
  {
   "cell_type": "code",
   "execution_count": 1,
   "metadata": {},
   "outputs": [
    {
     "name": "stdout",
     "output_type": "stream",
     "text": [
      "El Asteroide va demasiado rapido\n"
     ]
    }
   ],
   "source": [
    "Vel_Ast = 49\n",
    "if Vel_Ast >= 25 :\n",
    "     print(\"El Asteroide va demasiado rapido\")"
   ]
  },
  {
   "cell_type": "markdown",
   "metadata": {},
   "source": [
    "## Ejercicio 2"
   ]
  },
  {
   "cell_type": "code",
   "execution_count": 2,
   "metadata": {},
   "outputs": [
    {
     "name": "stdout",
     "output_type": "stream",
     "text": [
      "El asteroide no es peligroso ni se aprecia su rayo de luz\n"
     ]
    }
   ],
   "source": [
    "Vel_Ast = 19\n",
    "if Vel_Ast >= 25 :\n",
    "     print(\"El Asteroide va demasiado rapido\")\n",
    "elif Vel_Ast >= 20 and Vel_Ast < 25 :\n",
    "    print(\"Hay un asteroide en el cielo que produjo un rayo de luz\")\n",
    "else:\n",
    "    print(\"El asteroide no es peligroso ni se aprecia su rayo de luz\")"
   ]
  },
  {
   "cell_type": "markdown",
   "metadata": {},
   "source": [
    "## Ejercicio 3"
   ]
  },
  {
   "cell_type": "code",
   "execution_count": 3,
   "metadata": {},
   "outputs": [
    {
     "name": "stdout",
     "output_type": "stream",
     "text": [
      "El asteroide no va muy rapido, pero si es muy grande\n"
     ]
    }
   ],
   "source": [
    "Vel_Ast = 19\n",
    "tamano = 97\n",
    "if Vel_Ast >= 25 and tamano > 25 and tamano  < 1000:\n",
    "     print(\"El Asteroide va demasiado rapido, causara mucho dano\")\n",
    "elif Vel_Ast >= 20 and Vel_Ast < 25 and tamano <= 25 :\n",
    "    print(\"Hay un asteroide en el cielo que produjo un rayo de luz, pero no es peligroso porque se quemara\")\n",
    "elif Vel_Ast >= 25 and tamano < 25 :\n",
    "    print(\"El asteroide va demasiado rapido, pero no es peligroso porque se quemara\")\n",
    "elif Vel_Ast >= 20 and Vel_Ast < 25 and tamano > 25 and tamano  < 1000 :\n",
    "    print(\"Hay un asteroide en el cielo que produjo un rayo de luz, pero es peligroso porque es demasiado grande\")\n",
    "elif Vel_Ast < 20 and tamano > 25 and tamano  < 1000:\n",
    "    print(\"El asteroide no va muy rapido, pero si es muy grande\")\n",
    "elif Vel_Ast < 20 and tamano >= 1000:\n",
    "    print(\"Alerta! Asteroide muy grande\")\n",
    "else:\n",
    "    print(\"Aun no se sabe si el asteroide es peligroso o no\")"
   ]
  }
 ],
 "metadata": {
  "interpreter": {
   "hash": "c296312d578d2fcbb8dfb6e44ef47bb7469e02a5795704d70419f33fb4202a41"
  },
  "kernelspec": {
   "display_name": "Python 3.10.2 64-bit (windows store)",
   "language": "python",
   "name": "python3"
  },
  "language_info": {
   "codemirror_mode": {
    "name": "ipython",
    "version": 3
   },
   "file_extension": ".py",
   "mimetype": "text/x-python",
   "name": "python",
   "nbconvert_exporter": "python",
   "pygments_lexer": "ipython3",
   "version": "3.10.2"
  },
  "orig_nbformat": 4
 },
 "nbformat": 4,
 "nbformat_minor": 2
}
