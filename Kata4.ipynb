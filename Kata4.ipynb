{
 "cells": [
  {
   "cell_type": "markdown",
   "metadata": {},
   "source": [
    "# Kata 4\n",
    "## Alejandro Trinidad Zavala"
   ]
  },
  {
   "cell_type": "markdown",
   "metadata": {},
   "source": [
    "### Ejercicio 1"
   ]
  },
  {
   "cell_type": "code",
   "execution_count": 30,
   "metadata": {},
   "outputs": [
    {
     "name": "stdout",
     "output_type": "stream",
     "text": [
      "['Interesting facts about the Moon', \"The Moon is Earth's only satellite\", 'There are several interesting facts about the Moon and how it affects life here on Earth', '\\nOn average, the Moon moves 4cm away from the Earth every year', 'This yearly drift is not significant enough to cause immediate effects on Earth', 'The highest daylight temperature of the Moon is 127 C.']\n"
     ]
    }
   ],
   "source": [
    "text = \"\"\"Interesting facts about the Moon. The Moon is Earth's only satellite. There are several interesting facts about the Moon and how it affects life here on Earth. \n",
    "On average, the Moon moves 4cm away from the Earth every year. This yearly drift is not significant enough to cause immediate effects on Earth. The highest daylight temperature of the Moon is 127 C.\"\"\"\n",
    "frases=text.split('. ')\n",
    "print(frases)"
   ]
  },
  {
   "cell_type": "code",
   "execution_count": 31,
   "metadata": {},
   "outputs": [
    {
     "name": "stdout",
     "output_type": "stream",
     "text": [
      "La palabra ´average´ se encuentra en la linea 4 en la posicion: 4\n",
      "La palabra ´temperature´ se encuentra en la linea 6 en la posicion: 21\n",
      "\n",
      "\n",
      "Interesting facts about the Moon\n",
      "The Moon is Earth's only satellite\n",
      "There are several interesting facts about the Moon and how it affects life here on Earth\n",
      "\n",
      "On average, the Moon moves 4cm away from the Earth every year\n",
      "This yearly drift is not significant enough to cause immediate effects on Earth\n",
      "The highest daylight temperature of the Moon is 127 Celsius.\n"
     ]
    }
   ],
   "source": [
    "\n",
    "p1='average'\n",
    "p2='temperature'\n",
    "p3='distance'\n",
    "num = 1\n",
    "for i in frases:\n",
    "    a=i.find(p1)\n",
    "    b=i.find(p2)\n",
    "    c=i.find(p3)\n",
    "    if a != -1:\n",
    "        print(\"La palabra ´\" + p1 + \"´ se encuentra en la linea \" + str(num) + \" en la posicion: \" + str(a))\n",
    "    if b != -1:\n",
    "        print(\"La palabra ´\" + p2 + \"´ se encuentra en la linea \" + str(num) + \" en la posicion: \" + str(b))\n",
    "    if c != -1:\n",
    "        print(\"La palabra ´\" + p3 + \"´ se encuentra en la linea \" + str(num) + \" en la posicion: \" + str(c))\n",
    "    num = num + 1\n",
    "print(\"\\n\")\n",
    "for k in frases:\n",
    "    k=k.replace('C', 'Celsius')\n",
    "    print (k)\n",
    "\n"
   ]
  },
  {
   "cell_type": "markdown",
   "metadata": {},
   "source": [
    "### Ejercicio 2"
   ]
  },
  {
   "cell_type": "code",
   "execution_count": 19,
   "metadata": {},
   "outputs": [
    {
     "name": "stdout",
     "output_type": "stream",
     "text": [
      " Gravity Facts about Ganymede\n",
      "------------------------------------------------------------------------------- \n",
      "Planet Name: \" Earth \"\n",
      "Gravity on  Moon : 1.6199999999999999 m/s\n",
      "\n",
      "\n",
      " Gravity Facts about Ganymede\n",
      "------------------------------------------------------------------------------- \n",
      "Planet Name: \" Marte  \"\n",
      "Gravity on  Ganímedes : 1.4300000000000002 m/s\n"
     ]
    }
   ],
   "source": [
    "titulo = \"Gravity Facts about Ganymede\\n-------------------------------------------------------------------------------\"\n",
    "name = \"Moon\"\n",
    "gravity = 0.00162 # in kms\n",
    "grav = gravity * 1000\n",
    "planet = \"Earth\"\n",
    "plantilla = f' {titulo} \\nPlanet Name: \\\" {planet} \"\\nGravity on  {name} : {grav} m/s'\n",
    "print (plantilla)\n",
    "\n",
    "print (\"\\n\")\n",
    "planeta = \"Marte \"\n",
    "gravedad  = 0.00143\n",
    "gr  = gravedad * 1000\n",
    "nombre = \"Ganímedes\"\n",
    "plantilla2 = f' {titulo} \\nPlanet Name: \\\" {planeta} \"\\nGravity on  {nombre} : {gr} m/s'\n",
    "print (plantilla2)"
   ]
  }
 ],
 "metadata": {
  "interpreter": {
   "hash": "c296312d578d2fcbb8dfb6e44ef47bb7469e02a5795704d70419f33fb4202a41"
  },
  "kernelspec": {
   "display_name": "Python 3.10.2 64-bit (windows store)",
   "language": "python",
   "name": "python3"
  },
  "language_info": {
   "codemirror_mode": {
    "name": "ipython",
    "version": 3
   },
   "file_extension": ".py",
   "mimetype": "text/x-python",
   "name": "python",
   "nbconvert_exporter": "python",
   "pygments_lexer": "ipython3",
   "version": "3.10.2"
  },
  "orig_nbformat": 4
 },
 "nbformat": 4,
 "nbformat_minor": 2
}
