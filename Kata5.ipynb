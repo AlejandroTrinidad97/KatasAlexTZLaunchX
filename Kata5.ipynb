{
 "cells": [
  {
   "cell_type": "markdown",
   "metadata": {},
   "source": [
    "# Kata 5\n",
    "## Alejandro Trinidad Zavala"
   ]
  },
  {
   "cell_type": "markdown",
   "metadata": {},
   "source": [
    "### Ejercicio 1"
   ]
  },
  {
   "cell_type": "code",
   "execution_count": 11,
   "metadata": {},
   "outputs": [
    {
     "name": "stdout",
     "output_type": "stream",
     "text": [
      "Distancia de los dos planetas en Km: 628949330\n",
      "Distancia de los dos planetas en Millas: 390577534\n"
     ]
    }
   ],
   "source": [
    "Tierra = 149597870\n",
    "Jupiter = 778547200\n",
    "\n",
    "Resta = abs(Tierra - Jupiter)\n",
    "print (\"Distancia de los dos planetas en Km: \" + str(Resta))\n",
    "\n",
    "milla = round(0.621 * Resta)\n",
    "print (\"Distancia de los dos planetas en Millas: \" + str(milla))"
   ]
  },
  {
   "cell_type": "markdown",
   "metadata": {},
   "source": [
    "### Ejercicio 2"
   ]
  },
  {
   "cell_type": "code",
   "execution_count": 18,
   "metadata": {},
   "outputs": [
    {
     "name": "stdout",
     "output_type": "stream",
     "text": [
      "La distancia ingresada del primer planeta es de: 57900000\n",
      "La distancia ingresada \\del segundo planeta es de: 1433500000 \n",
      "Distancia de los dos planetas en Km: 1375600000\n",
      "Distancia de los dos planetas en Millas: 288876000\n"
     ]
    }
   ],
   "source": [
    "a = input('¿Cual es la distancia en kilometros del primer planeta?')\n",
    "print (\"La distancia ingresada del primer planeta es de: \" + a)\n",
    "entero = int(a)\n",
    "b = input('¿Cual es la distancia en kilometros del segundo planeta?')\n",
    "print (\"La distancia ingresada \\del segundo planeta es de: \" + b)\n",
    "entero2 = int(b)\n",
    "r = abs(entero2 - entero)\n",
    "print (\"Distancia de los dos planetas en Km: \" + str(r))\n",
    "m = round (0.21 * r)\n",
    "print (\"Distancia de los dos planetas en Millas: \" + str(m))"
   ]
  }
 ],
 "metadata": {
  "interpreter": {
   "hash": "c296312d578d2fcbb8dfb6e44ef47bb7469e02a5795704d70419f33fb4202a41"
  },
  "kernelspec": {
   "display_name": "Python 3.10.2 64-bit (windows store)",
   "language": "python",
   "name": "python3"
  },
  "language_info": {
   "codemirror_mode": {
    "name": "ipython",
    "version": 3
   },
   "file_extension": ".py",
   "mimetype": "text/x-python",
   "name": "python",
   "nbconvert_exporter": "python",
   "pygments_lexer": "ipython3",
   "version": "3.10.2"
  },
  "orig_nbformat": 4
 },
 "nbformat": 4,
 "nbformat_minor": 2
}
