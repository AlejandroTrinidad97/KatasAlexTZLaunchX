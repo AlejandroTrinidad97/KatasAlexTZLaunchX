{
 "cells": [
  {
   "cell_type": "markdown",
   "metadata": {},
   "source": [
    "# Kata 9\n",
    "## Alejandro Trinidad Zavala"
   ]
  },
  {
   "cell_type": "markdown",
   "metadata": {},
   "source": [
    "### Ejercicio 1"
   ]
  },
  {
   "cell_type": "code",
   "execution_count": 1,
   "metadata": {},
   "outputs": [
    {
     "name": "stdout",
     "output_type": "stream",
     "text": [
      "El tanque 1 es de 50\n",
      "El tanque 2 es de 40\n",
      "El tanque 3 es de 70\n",
      "El promedio es de 53.333333333333336\n"
     ]
    }
   ],
   "source": [
    "def combustibles(tanque1, tanque2, tanque3):\n",
    "    promedio = (tanque1 + tanque2 + tanque3) / 3\n",
    "    return f'El tanque 1 es de {tanque1}\\nEl tanque 2 es de {tanque2}\\nEl tanque 3 es de {tanque3}\\nEl promedio es de {promedio}'\n",
    "\n",
    "print(combustibles(50, 40, 70))"
   ]
  },
  {
   "cell_type": "code",
   "execution_count": 3,
   "metadata": {},
   "outputs": [
    {
     "name": "stdout",
     "output_type": "stream",
     "text": [
      "El promedio es de: 53.333333333333336\n"
     ]
    }
   ],
   "source": [
    "def combustibles2(tanque1, tanque2, tanque3):\n",
    "    promedio = (tanque1 + tanque2 + tanque3) / 3\n",
    "    return promedio\n",
    "\n",
    "resultado = combustibles2(50, 40, 70)\n",
    "print(\"El promedio es de: \" + str(resultado))"
   ]
  },
  {
   "cell_type": "code",
   "execution_count": 8,
   "metadata": {},
   "outputs": [
    {
     "name": "stdout",
     "output_type": "stream",
     "text": [
      "El tanque 1 es de 79\n",
      "El tanque 2 es de 20\n",
      "El tanque 3 es de 80\n",
      "El promedio es de 59.666666666666664\n"
     ]
    }
   ],
   "source": [
    "def combustibles3(tanque1, tanque2, tanque3):\n",
    "    promedio = (tanque1 + tanque2 + tanque3) / 3\n",
    "    return promedio\n",
    "\n",
    "def combustibles4(tanque1, tanque2, tanque3):\n",
    "    promedio = combustibles3(tanque1, tanque2, tanque3)\n",
    "    return f'El tanque 1 es de {tanque1}\\nEl tanque 2 es de {tanque2}\\nEl tanque 3 es de {tanque3}\\nEl promedio es de {promedio}'\n",
    "\n",
    "print(combustibles4(79, 20, 80))"
   ]
  },
  {
   "cell_type": "markdown",
   "metadata": {},
   "source": [
    "### Ejercicio 2"
   ]
  },
  {
   "cell_type": "code",
   "execution_count": 13,
   "metadata": {},
   "outputs": [
    {
     "name": "stdout",
     "output_type": "stream",
     "text": [
      "La hora del prelanzamiento es: 20 \n",
      "El timepo de vuelo: 80\n",
      "El destino es: Marte \n",
      "El tiempo completo es de: 100 horas \n",
      "El combustible es de: 1210000 galones\n"
     ]
    }
   ],
   "source": [
    "# Función con un informe preciso de la misión. Considera hora de prelanzamiento, tiempo de vuelo, destino, tanque externo y tanque interno\n",
    "def mision(hr_prelanzamiento, t_vuelo, destino, tanque_e, tanque_i):\n",
    "    sum1 = hr_prelanzamiento + t_vuelo\n",
    "    sum2 = tanque_e + tanque_i\n",
    "    return f'''La hora del prelanzamiento es: {hr_prelanzamiento} \\nEl timepo de vuelo: {t_vuelo}\n",
    "El destino es: {destino} \\nEl tiempo completo es de: {sum1} horas \\nEl combustible es de: {sum2} galones'''\n",
    "\n",
    "print(mision(20, 80, \"Marte\", 970000, 240000))"
   ]
  },
  {
   "cell_type": "code",
   "execution_count": 21,
   "metadata": {},
   "outputs": [
    {
     "name": "stdout",
     "output_type": "stream",
     "text": [
      "\n",
      "El destino es: Luna\n",
      "El tiempo del viaje es de: 132 munitos\n",
      "Combustible total: 1200000\n",
      "\n"
     ]
    }
   ],
   "source": [
    "def mision2(destino2, *tiempo, **combustible_t):\n",
    "    return f\"\"\"\n",
    "El destino es: {destino2}\n",
    "El tiempo del viaje es de: {sum(tiempo)} munitos\n",
    "Combustible total: {sum(combustible_t.values())}\n",
    "\"\"\"\n",
    "\n",
    "print(mision2(\"Luna\", 24, 11, 97, interno=850000, externo=350000))"
   ]
  },
  {
   "cell_type": "code",
   "execution_count": 29,
   "metadata": {},
   "outputs": [
    {
     "name": "stdout",
     "output_type": "stream",
     "text": [
      "\n",
      "El destino es: Luna\n",
      "El tiempo del viaje es de: 132 munitos\n",
      "Tanque interno es de 850000 galones\n",
      "Tanque externo es de 350000 galones\n",
      "Tanque extra es de 50000 galones\n",
      "Combustible total: 1250000 galones\n"
     ]
    }
   ],
   "source": [
    "def mision3(destino3, *tiempo2, **combustible_t2):\n",
    "    respuesta = f\"\"\"\n",
    "El destino es: {destino3}\n",
    "El tiempo del viaje es de: {sum(tiempo2)} munitos\n",
    "\"\"\"\n",
    "    for nombre, galones in combustible_t2.items():\n",
    "        respuesta += f\"Tanque {nombre} es de {galones} galones\\n\"\n",
    "    \n",
    "    respuesta += f\"Combustible total: {sum(combustible_t2.values())} galones\"    \n",
    "    return respuesta\n",
    "\n",
    "print(mision3(\"Luna\", 24, 11, 97, interno=850000, externo=350000, extra=50000))"
   ]
  }
 ],
 "metadata": {
  "interpreter": {
   "hash": "c296312d578d2fcbb8dfb6e44ef47bb7469e02a5795704d70419f33fb4202a41"
  },
  "kernelspec": {
   "display_name": "Python 3.10.2 64-bit (windows store)",
   "language": "python",
   "name": "python3"
  },
  "language_info": {
   "codemirror_mode": {
    "name": "ipython",
    "version": 3
   },
   "file_extension": ".py",
   "mimetype": "text/x-python",
   "name": "python",
   "nbconvert_exporter": "python",
   "pygments_lexer": "ipython3",
   "version": "3.10.2"
  },
  "orig_nbformat": 4
 },
 "nbformat": 4,
 "nbformat_minor": 2
}
